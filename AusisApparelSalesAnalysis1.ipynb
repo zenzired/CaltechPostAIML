{
 "cells": [
  {
   "cell_type": "code",
   "execution_count": null,
   "id": "0875eee1-5974-44b0-9e3d-5043f7228024",
   "metadata": {},
   "outputs": [],
   "source": [
    "import pandas as pd\n",
    "from sklearn.preprocessing import MinMaxScaler\n",
    "import matplotlib.pyplot as plt\n",
    "import seaborn as sns\n",
    "\n",
    "file_path = 'AusApparalSales4thQrt2020.csv'\n",
    "data = pd.read_csv(file_path)\n",
    "\n",
    "scaler = MinMaxScaler()\n",
    "data[['Unit', 'Sales']] = scaler.fit_transform(data[['Unit', 'Sales']])\n",
    "\n",
    "data['Date'] = pd.to_datetime(data['Date'], format='%d-%b-%Y')\n"
   ]
  },
  {
   "cell_type": "code",
   "execution_count": null,
   "id": "3b85e504-602d-4c55-8ad5-8b93e362f5df",
   "metadata": {},
   "outputs": [],
   "source": [
    "missing_data = data.isna().sum()\n",
    "missing_data"
   ]
  },
  {
   "cell_type": "code",
   "execution_count": null,
   "id": "3f077967-4eee-434d-b329-db0e60bca34e",
   "metadata": {},
   "outputs": [],
   "source": [
    "\n",
    "scaler = MinMaxScaler()\n",
    "data[['Unit', 'Sales']] = scaler.fit_transform(data[['Unit', 'Sales']])\n",
    "\n",
    "data.head()\n"
   ]
  },
  {
   "cell_type": "code",
   "execution_count": null,
   "id": "4087bce2-0905-473e-a001-a350601d7318",
   "metadata": {},
   "outputs": [],
   "source": [
    "sales_stats = data['Sales'].describe()\n",
    "unit_stats = data['Unit'].describe()\n",
    "sales_stats, unit_stats\n"
   ]
  },
  {
   "cell_type": "code",
   "execution_count": null,
   "id": "84b3b910-c230-4759-97ba-6dd462e3bfe6",
   "metadata": {},
   "outputs": [],
   "source": [
    "highest_sales_group = data.groupby('Group')['Sales'].sum().idxmax()\n",
    "lowest_sales_group = data.groupby('Group')['Sales'].sum().idxmin()\n",
    "highest_sales_group, lowest_sales_group"
   ]
  },
  {
   "cell_type": "code",
   "execution_count": null,
   "id": "4720808e-2532-4614-982f-6b62953ee225",
   "metadata": {},
   "outputs": [],
   "source": [
    "data['Date'] = pd.to_datetime(data['Date'], format='%d-%b-%Y')"
   ]
  },
  {
   "cell_type": "code",
   "execution_count": null,
   "id": "dba5c60f-1433-4ae9-a187-da14281e4f17",
   "metadata": {},
   "outputs": [],
   "source": [
    "weekly_report = data.resample('W-Mon', on='Date').sum()\n",
    "monthly_report = data.resample('M', on='Date').sum()\n",
    "quarterly_report = data.resample('Q', on='Date').sum()\n",
    "\n",
    "weekly_report.head(), monthly_report.head(), quarterly_report.head()"
   ]
  },
  {
   "cell_type": "code",
   "execution_count": null,
   "id": "cbc7b961-b829-4c0d-9ccc-87e048bbfed1",
   "metadata": {},
   "outputs": [],
   "source": [
    "## Data Visualization\n",
    "plt.figure(figsize=(12, 6))\n",
    "sns.barplot(x='State', y='Sales', hue='Group', data=data)\n",
    "plt.title('State-wise Sales Analysis for Different Groups')\n",
    "plt.show()"
   ]
  },
  {
   "cell_type": "code",
   "execution_count": null,
   "id": "1e57be51-2329-4b60-9dec-03f34cc7a8b6",
   "metadata": {},
   "outputs": [],
   "source": [
    "plt.figure(figsize=(12, 6))\n",
    "sns.barplot(x='Group', y='Sales', hue='State', data=data)\n",
    "plt.title('Group-wise Sales Analysis Across States')\n",
    "plt.show()"
   ]
  },
  {
   "cell_type": "code",
   "execution_count": null,
   "id": "cc3c4595-8d46-4cc3-a7f0-a1dcd7c2efe9",
   "metadata": {},
   "outputs": [],
   "source": [
    "plt.figure(figsize=(12, 6))\n",
    "sns.boxplot(x='Time', y='Sales', data=data)\n",
    "plt.title('Time-of-the-day Sales Analysis')\n",
    "plt.show()"
   ]
  },
  {
   "cell_type": "code",
   "execution_count": null,
   "id": "d2f03eb6-70ee-4e02-a1ff-60314eea0017",
   "metadata": {},
   "outputs": [],
   "source": [
    "state_group_sales = data.groupby(['State', 'Group'])['Sales'].sum().unstack()\n",
    "\n",
    "state_group_sales.plot(kind='bar', stacked=True, figsize=(12, 6))\n",
    "plt.title('Stacked Bar Chart for State-wise Sales Analysis')\n",
    "plt.ylabel('Sales')\n",
    "plt.xlabel('State')\n",
    "plt.legend(title='Group')\n",
    "plt.show()"
   ]
  },
  {
   "cell_type": "code",
   "execution_count": null,
   "id": "fb22891d-e06b-4063-86f9-4290198dc48b",
   "metadata": {},
   "outputs": [],
   "source": [
    "monthly_sales_trend = data.resample('M', on='Date')['Sales'].sum()\n",
    "\n",
    "monthly_sales_trend.plot(kind='line', figsize=(12, 6), marker='o')\n",
    "plt.title('Monthly Sales Trend')\n",
    "plt.ylabel('Sales')\n",
    "plt.xlabel('Month')\n",
    "plt.grid(True)\n",
    "plt.show()"
   ]
  }
 ],
 "metadata": {
  "kernelspec": {
   "display_name": "Python 3 (ipykernel)",
   "language": "python",
   "name": "python3"
  },
  "language_info": {
   "codemirror_mode": {
    "name": "ipython",
    "version": 3
   },
   "file_extension": ".py",
   "mimetype": "text/x-python",
   "name": "python",
   "nbconvert_exporter": "python",
   "pygments_lexer": "ipython3",
   "version": "3.12.3"
  }
 },
 "nbformat": 4,
 "nbformat_minor": 5
}
